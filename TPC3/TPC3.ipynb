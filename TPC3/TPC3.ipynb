{
 "cells": [
  {
   "cell_type": "markdown",
   "metadata": {},
   "source": [
    "## TPC3: Adivinha o número!?\n",
    "\n",
    "Desenvolve em Python o código necessário para o jogo do Adivinha o número: \n",
    "* O jogo deverá ter dois modos: o computador tenta acertar no número que o jogador pensou ou, o jogador tenta acertar no número que o computador pensou; \n",
    "* No fim, o programa deverá indicar quantas tentativas foram realizadas para chegar ao resultado;\n",
    "* O Jogo: \n",
    "    - o utilizador pensa num número entre 0 e 100;\n",
    "    - o computador tenta adivinhar indicando um número do intervalo;\n",
    "    - o utilizador indica se o número em que pensou é **maior**, **menor**, ou se o computador **acertou**;\n",
    "    - ao terminar, o programa imprime o número de tentativas que o computador teve de fazer até chegar ao número.\n",
    "\n",
    "Que conclusão podes tirar sobre o número de tentativas necessárias para um número entre 0 e 100? E se fosse entre 0 e 1000?"
   ]
  },
  {
   "cell_type": "code",
   "execution_count": null,
   "metadata": {},
   "outputs": [],
   "source": [
    "modo = int( input(\"\"\"Escolha o tipo de jogo que pretende jogar?\n",
    "0-O computador advinha o teu número entre 0 e 100\n",
    "1-Advinha o numero do computador\n",
    "2-O computador advinha o teu número entre 0 e 1000\"\"\"))\n",
    "sup = 100\n",
    "inf = 0\n",
    "x = 0\n",
    "n = 0\n",
    "t = 1\n",
    "acertou = \"acertou\"\n",
    "if modo == 0:\n",
    "    pergunta = str()\n",
    "    while pergunta!= acertou:\n",
    "        n = n + 1\n",
    "        x = int((sup + inf) / 2)\n",
    "        pergunta = input(\"O seu número é \"+ str(x) + \"?\")\n",
    "        if pergunta == \"maior\":\n",
    "            inf = x\n",
    "        else:\n",
    "            sup = x\n",
    "    print(\"O computador advinhou o número em \" + str(n) + \" tentativas\") \n",
    "elif modo == 1:\n",
    "    import random\n",
    "    r = random.randrange(0,100)\n",
    "    while r!=x:\n",
    "        x =  int(input(\"Diga um número\"))\n",
    "        t = t + 1\n",
    "        if r>x:\n",
    "            print(\"maior\")\n",
    "        else:\n",
    "            print(\"menor\")\n",
    "        \n",
    "    print(\"Acertou em \"+ str(t) + \"tentativas!\")\n",
    "elif modo == 2:\n",
    "    pergunta = str()\n",
    "    sup = 1000\n",
    "    while pergunta!= acertou:\n",
    "        n = n + 1\n",
    "        x = int((sup + inf) / 2)\n",
    "        pergunta = input(\"O seu número é \"+ str(x) + \"?\")\n",
    "        if pergunta == \"maior\":\n",
    "            inf = x\n",
    "        else:\n",
    "            sup = x\n",
    "    print(\"O computador advinhou o número em \" + str(n) + \" tentativas\")\n",
    "    "
   ]
  },
  {
   "cell_type": "markdown",
   "metadata": {},
   "source": [
    "Que conclusão podes tirar sobre o número de tentativas necessárias para um número entre 0 e 100? E se fosse entre 0 e 1000?\n",
    "\n",
    "Posso afirmar que o número máximo de tentativas necessário para o computador acertar o número pode ser determinado facilmente, basta ver qual a potência de base 2 é superior ao comprimento do intervalo, que o expoente será o número máximo de tentativas do computador,  por exemplo 2 elevado a 7 é 128 que é maior que 100 logo o número máximo de tentativas seria 7. "
   ]
  }
 ],
 "metadata": {
  "kernelspec": {
   "display_name": "Python 3",
   "language": "python",
   "name": "python3"
  },
  "language_info": {
   "codemirror_mode": {
    "name": "ipython",
    "version": 3
   },
   "file_extension": ".py",
   "mimetype": "text/x-python",
   "name": "python",
   "nbconvert_exporter": "python",
   "pygments_lexer": "ipython3",
   "version": "3.11.5"
  },
  "orig_nbformat": 4
 },
 "nbformat": 4,
 "nbformat_minor": 2
}
